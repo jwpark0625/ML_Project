{
 "cells": [
  {
   "cell_type": "code",
   "execution_count": 56,
   "id": "953c6cc3",
   "metadata": {},
   "outputs": [],
   "source": [
    "import pandas as pd\n",
    "import xlrd\n",
    "\n",
    "df0=pd.read_excel(\"D:\\jupiter workspace\\dataset\\서울시 공공자전거 고장신고 내역_0.xlsx\")\n",
    "df1=pd.read_csv(\"D:\\jupiter workspace\\dataset\\서울시 공공자전거 고장신고 내역_1.csv\", encoding=\"cp949\")\n",
    "df2=pd.read_csv(\"D:\\jupiter workspace\\dataset\\서울시 공공자전거 고장신고 내역_2.csv\", encoding=\"cp949\")\n",
    "df3=pd.read_csv(\"D:\\jupiter workspace\\dataset\\서울시 공공자전거 고장신고 내역_3.csv\", encoding=\"cp949\")"
   ]
  },
  {
   "cell_type": "code",
   "execution_count": 57,
   "id": "e8a528e8",
   "metadata": {},
   "outputs": [],
   "source": [
    "df=pd.concat([df0, df1, df2, df3], axis=0, ignore_index=True)"
   ]
  },
  {
   "cell_type": "code",
   "execution_count": 85,
   "id": "abd04cef",
   "metadata": {},
   "outputs": [
    {
     "data": {
      "text/html": [
       "<div>\n",
       "<style scoped>\n",
       "    .dataframe tbody tr th:only-of-type {\n",
       "        vertical-align: middle;\n",
       "    }\n",
       "\n",
       "    .dataframe tbody tr th {\n",
       "        vertical-align: top;\n",
       "    }\n",
       "\n",
       "    .dataframe thead th {\n",
       "        text-align: right;\n",
       "    }\n",
       "</style>\n",
       "<table border=\"1\" class=\"dataframe\">\n",
       "  <thead>\n",
       "    <tr style=\"text-align: right;\">\n",
       "      <th></th>\n",
       "      <th>자전거번호</th>\n",
       "      <th>등록일시</th>\n",
       "      <th>고장구분</th>\n",
       "    </tr>\n",
       "  </thead>\n",
       "  <tbody>\n",
       "    <tr>\n",
       "      <th>0</th>\n",
       "      <td>SPB-00108</td>\n",
       "      <td>2015-12-04</td>\n",
       "      <td>체인</td>\n",
       "    </tr>\n",
       "    <tr>\n",
       "      <th>1</th>\n",
       "      <td>SPB-00210</td>\n",
       "      <td>2015-12-07</td>\n",
       "      <td>체인</td>\n",
       "    </tr>\n",
       "    <tr>\n",
       "      <th>2</th>\n",
       "      <td>SPB-00035</td>\n",
       "      <td>2015-12-09</td>\n",
       "      <td>기타</td>\n",
       "    </tr>\n",
       "    <tr>\n",
       "      <th>3</th>\n",
       "      <td>SPB-01024</td>\n",
       "      <td>2015-12-13</td>\n",
       "      <td>기타</td>\n",
       "    </tr>\n",
       "    <tr>\n",
       "      <th>4</th>\n",
       "      <td>SPB-01015</td>\n",
       "      <td>2015-12-28</td>\n",
       "      <td>기타</td>\n",
       "    </tr>\n",
       "    <tr>\n",
       "      <th>...</th>\n",
       "      <td>...</td>\n",
       "      <td>...</td>\n",
       "      <td>...</td>\n",
       "    </tr>\n",
       "    <tr>\n",
       "      <th>337868</th>\n",
       "      <td>SPB-52362</td>\n",
       "      <td>2021-12-30</td>\n",
       "      <td>안장</td>\n",
       "    </tr>\n",
       "    <tr>\n",
       "      <th>337869</th>\n",
       "      <td>SPB-34353</td>\n",
       "      <td>2021-12-30</td>\n",
       "      <td>기타</td>\n",
       "    </tr>\n",
       "    <tr>\n",
       "      <th>337870</th>\n",
       "      <td>SPB-31667</td>\n",
       "      <td>2021-12-30</td>\n",
       "      <td>기타</td>\n",
       "    </tr>\n",
       "    <tr>\n",
       "      <th>337871</th>\n",
       "      <td>SPB-43563</td>\n",
       "      <td>2021-12-30</td>\n",
       "      <td>체인</td>\n",
       "    </tr>\n",
       "    <tr>\n",
       "      <th>337872</th>\n",
       "      <td>SPB-43563</td>\n",
       "      <td>2021-12-30</td>\n",
       "      <td>기타</td>\n",
       "    </tr>\n",
       "  </tbody>\n",
       "</table>\n",
       "<p>337873 rows × 3 columns</p>\n",
       "</div>"
      ],
      "text/plain": [
       "            자전거번호       등록일시 고장구분\n",
       "0       SPB-00108 2015-12-04   체인\n",
       "1       SPB-00210 2015-12-07   체인\n",
       "2       SPB-00035 2015-12-09  기타 \n",
       "3       SPB-01024 2015-12-13  기타 \n",
       "4       SPB-01015 2015-12-28  기타 \n",
       "...           ...        ...  ...\n",
       "337868  SPB-52362 2021-12-30   안장\n",
       "337869  SPB-34353 2021-12-30  기타 \n",
       "337870  SPB-31667 2021-12-30  기타 \n",
       "337871  SPB-43563 2021-12-30   체인\n",
       "337872  SPB-43563 2021-12-30  기타 \n",
       "\n",
       "[337873 rows x 3 columns]"
      ]
     },
     "execution_count": 85,
     "metadata": {},
     "output_type": "execute_result"
    }
   ],
   "source": [
    "df"
   ]
  },
  {
   "cell_type": "code",
   "execution_count": 86,
   "id": "fa500c99",
   "metadata": {
    "scrolled": true
   },
   "outputs": [],
   "source": [
    "df['등록일시'] = pd.to_datetime(df['등록일시'])"
   ]
  },
  {
   "cell_type": "code",
   "execution_count": 87,
   "id": "8e49f5d8",
   "metadata": {},
   "outputs": [
    {
     "name": "stdout",
     "output_type": "stream",
     "text": [
      "<class 'pandas.core.frame.DataFrame'>\n",
      "RangeIndex: 337873 entries, 0 to 337872\n",
      "Data columns (total 3 columns):\n",
      " #   Column  Non-Null Count   Dtype         \n",
      "---  ------  --------------   -----         \n",
      " 0   자전거번호   337873 non-null  object        \n",
      " 1   등록일시    337873 non-null  datetime64[ns]\n",
      " 2   고장구분    337873 non-null  object        \n",
      "dtypes: datetime64[ns](1), object(2)\n",
      "memory usage: 7.7+ MB\n"
     ]
    }
   ],
   "source": [
    "df.info()"
   ]
  },
  {
   "cell_type": "code",
   "execution_count": 80,
   "id": "edcb1644",
   "metadata": {},
   "outputs": [],
   "source": [
    "df.to_csv(\"D:/jupiter_workspace/dataset/breakdown_bike.csv\", encoding=\"cp949\", index=False)"
   ]
  },
  {
   "cell_type": "code",
   "execution_count": 93,
   "id": "3daf2330",
   "metadata": {},
   "outputs": [
    {
     "data": {
      "text/plain": [
       "'C:\\\\Users\\\\Administrator'"
      ]
     },
     "execution_count": 93,
     "metadata": {},
     "output_type": "execute_result"
    }
   ],
   "source": [
    "pwd"
   ]
  },
  {
   "cell_type": "code",
   "execution_count": 84,
   "id": "19aa2d40",
   "metadata": {},
   "outputs": [],
   "source": []
  },
  {
   "cell_type": "code",
   "execution_count": 92,
   "id": "fd5b4c59",
   "metadata": {},
   "outputs": [],
   "source": []
  },
  {
   "cell_type": "code",
   "execution_count": null,
   "id": "0a7d0a65",
   "metadata": {},
   "outputs": [],
   "source": []
  },
  {
   "cell_type": "code",
   "execution_count": null,
   "id": "9205f356",
   "metadata": {},
   "outputs": [],
   "source": []
  },
  {
   "cell_type": "code",
   "execution_count": null,
   "id": "b86a8205",
   "metadata": {},
   "outputs": [],
   "source": []
  },
  {
   "cell_type": "code",
   "execution_count": null,
   "id": "de2e8b62",
   "metadata": {},
   "outputs": [],
   "source": []
  }
 ],
 "metadata": {
  "kernelspec": {
   "display_name": "Python 3 (ipykernel)",
   "language": "python",
   "name": "python3"
  },
  "language_info": {
   "codemirror_mode": {
    "name": "ipython",
    "version": 3
   },
   "file_extension": ".py",
   "mimetype": "text/x-python",
   "name": "python",
   "nbconvert_exporter": "python",
   "pygments_lexer": "ipython3",
   "version": "3.9.7"
  }
 },
 "nbformat": 4,
 "nbformat_minor": 5
}
