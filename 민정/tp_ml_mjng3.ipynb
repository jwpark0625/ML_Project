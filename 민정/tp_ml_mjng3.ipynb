{
 "cells": [
  {
   "cell_type": "code",
   "execution_count": 9,
   "metadata": {},
   "outputs": [],
   "source": [
    "import pandas as pd\n",
    "from sklearn.linear_model import LogisticRegression\n",
    "from sklearn.model_selection import train_test_split\n",
    "from sklearn.linear_model import LogisticRegression\n",
    "import statsmodels.api as sm\n",
    "from sklearn.metrics import classification_report\n",
    "from sklearn import model_selection\n",
    "from sklearn.metrics import confusion_matrix\n",
    "from sklearn.metrics import roc_auc_score\n",
    "from sklearn.metrics import roc_curve\n",
    "import matplotlib.pyplot as plt \n"
   ]
  },
  {
   "cell_type": "markdown",
   "metadata": {},
   "source": [
    "### 1. load data"
   ]
  },
  {
   "cell_type": "code",
   "execution_count": 2,
   "metadata": {},
   "outputs": [
    {
     "data": {
      "text/html": [
       "<div>\n",
       "<style scoped>\n",
       "    .dataframe tbody tr th:only-of-type {\n",
       "        vertical-align: middle;\n",
       "    }\n",
       "\n",
       "    .dataframe tbody tr th {\n",
       "        vertical-align: top;\n",
       "    }\n",
       "\n",
       "    .dataframe thead th {\n",
       "        text-align: right;\n",
       "    }\n",
       "</style>\n",
       "<table border=\"1\" class=\"dataframe\">\n",
       "  <thead>\n",
       "    <tr style=\"text-align: right;\">\n",
       "      <th></th>\n",
       "      <th>breakdown</th>\n",
       "      <th>cumTime</th>\n",
       "      <th>cumDist</th>\n",
       "      <th>cumRide</th>\n",
       "      <th>cumBreak</th>\n",
       "      <th>intensity</th>\n",
       "      <th>meanDist</th>\n",
       "      <th>age</th>\n",
       "      <th>summer</th>\n",
       "    </tr>\n",
       "  </thead>\n",
       "  <tbody>\n",
       "    <tr>\n",
       "      <th>0</th>\n",
       "      <td>1</td>\n",
       "      <td>14910</td>\n",
       "      <td>1398094</td>\n",
       "      <td>458</td>\n",
       "      <td>1</td>\n",
       "      <td>93</td>\n",
       "      <td>3052</td>\n",
       "      <td>54</td>\n",
       "      <td>0</td>\n",
       "    </tr>\n",
       "    <tr>\n",
       "      <th>1</th>\n",
       "      <td>1</td>\n",
       "      <td>1281</td>\n",
       "      <td>189910</td>\n",
       "      <td>78</td>\n",
       "      <td>1</td>\n",
       "      <td>148</td>\n",
       "      <td>2434</td>\n",
       "      <td>62</td>\n",
       "      <td>0</td>\n",
       "    </tr>\n",
       "    <tr>\n",
       "      <th>2</th>\n",
       "      <td>1</td>\n",
       "      <td>8324</td>\n",
       "      <td>769168</td>\n",
       "      <td>332</td>\n",
       "      <td>3</td>\n",
       "      <td>92</td>\n",
       "      <td>2316</td>\n",
       "      <td>57</td>\n",
       "      <td>1</td>\n",
       "    </tr>\n",
       "    <tr>\n",
       "      <th>3</th>\n",
       "      <td>1</td>\n",
       "      <td>31610</td>\n",
       "      <td>2988819</td>\n",
       "      <td>949</td>\n",
       "      <td>1</td>\n",
       "      <td>94</td>\n",
       "      <td>3149</td>\n",
       "      <td>105</td>\n",
       "      <td>1</td>\n",
       "    </tr>\n",
       "    <tr>\n",
       "      <th>4</th>\n",
       "      <td>1</td>\n",
       "      <td>5587</td>\n",
       "      <td>518114</td>\n",
       "      <td>176</td>\n",
       "      <td>1</td>\n",
       "      <td>92</td>\n",
       "      <td>2943</td>\n",
       "      <td>41</td>\n",
       "      <td>1</td>\n",
       "    </tr>\n",
       "  </tbody>\n",
       "</table>\n",
       "</div>"
      ],
      "text/plain": [
       "   breakdown  cumTime  cumDist  cumRide  cumBreak  intensity  meanDist  age  \\\n",
       "0          1    14910  1398094      458         1         93      3052   54   \n",
       "1          1     1281   189910       78         1        148      2434   62   \n",
       "2          1     8324   769168      332         3         92      2316   57   \n",
       "3          1    31610  2988819      949         1         94      3149  105   \n",
       "4          1     5587   518114      176         1         92      2943   41   \n",
       "\n",
       "   summer  \n",
       "0       0  \n",
       "1       0  \n",
       "2       1  \n",
       "3       1  \n",
       "4       1  "
      ]
     },
     "execution_count": 2,
     "metadata": {},
     "output_type": "execute_result"
    }
   ],
   "source": [
    "data = pd.read_csv('bike_data.csv', header=0)\n",
    "data.drop(['Unnamed: 0'], axis=1, inplace=True)\n",
    "data.head()"
   ]
  },
  {
   "cell_type": "markdown",
   "metadata": {},
   "source": [
    "### 2. feature selection"
   ]
  },
  {
   "cell_type": "code",
   "execution_count": 5,
   "metadata": {},
   "outputs": [],
   "source": [
    "#독립변수 % 종속변수 정의\n",
    "X = data.drop('breakdown', axis=1, inplace=False)\n",
    "y = data['breakdown']"
   ]
  },
  {
   "cell_type": "markdown",
   "metadata": {},
   "source": [
    "### 3. implementing the statistic model"
   ]
  },
  {
   "cell_type": "code",
   "execution_count": 6,
   "metadata": {},
   "outputs": [
    {
     "name": "stdout",
     "output_type": "stream",
     "text": [
      "Optimization terminated successfully.\n",
      "         Current function value: 0.627495\n",
      "         Iterations 6\n"
     ]
    },
    {
     "data": {
      "text/html": [
       "<table class=\"simpletable\">\n",
       "<caption>Logit Regression Results</caption>\n",
       "<tr>\n",
       "  <th>Dep. Variable:</th>       <td>breakdown</td>    <th>  No. Observations:  </th>  <td> 40000</td> \n",
       "</tr>\n",
       "<tr>\n",
       "  <th>Model:</th>                 <td>Logit</td>      <th>  Df Residuals:      </th>  <td> 39992</td> \n",
       "</tr>\n",
       "<tr>\n",
       "  <th>Method:</th>                 <td>MLE</td>       <th>  Df Model:          </th>  <td>     7</td> \n",
       "</tr>\n",
       "<tr>\n",
       "  <th>Date:</th>            <td>Sat, 12 Mar 2022</td> <th>  Pseudo R-squ.:     </th>  <td>0.09472</td>\n",
       "</tr>\n",
       "<tr>\n",
       "  <th>Time:</th>                <td>01:31:06</td>     <th>  Log-Likelihood:    </th> <td> -25100.</td>\n",
       "</tr>\n",
       "<tr>\n",
       "  <th>converged:</th>             <td>True</td>       <th>  LL-Null:           </th> <td> -27726.</td>\n",
       "</tr>\n",
       "<tr>\n",
       "  <th>Covariance Type:</th>     <td>nonrobust</td>    <th>  LLR p-value:       </th>  <td> 0.000</td> \n",
       "</tr>\n",
       "</table>\n",
       "<table class=\"simpletable\">\n",
       "<tr>\n",
       "      <td></td>         <th>coef</th>     <th>std err</th>      <th>z</th>      <th>P>|z|</th>  <th>[0.025</th>    <th>0.975]</th>  \n",
       "</tr>\n",
       "<tr>\n",
       "  <th>cumTime</th>   <td> 1.148e-05</td> <td> 5.94e-06</td> <td>    1.935</td> <td> 0.053</td> <td> -1.5e-07</td> <td> 2.31e-05</td>\n",
       "</tr>\n",
       "<tr>\n",
       "  <th>cumDist</th>   <td> 2.343e-07</td> <td> 4.01e-08</td> <td>    5.841</td> <td> 0.000</td> <td> 1.56e-07</td> <td> 3.13e-07</td>\n",
       "</tr>\n",
       "<tr>\n",
       "  <th>cumRide</th>   <td>   -0.0018</td> <td>    0.000</td> <td>   -9.008</td> <td> 0.000</td> <td>   -0.002</td> <td>   -0.001</td>\n",
       "</tr>\n",
       "<tr>\n",
       "  <th>cumBreak</th>  <td>    0.3645</td> <td>    0.006</td> <td>   60.202</td> <td> 0.000</td> <td>    0.353</td> <td>    0.376</td>\n",
       "</tr>\n",
       "<tr>\n",
       "  <th>intensity</th> <td>    0.0033</td> <td>    0.001</td> <td>    4.740</td> <td> 0.000</td> <td>    0.002</td> <td>    0.005</td>\n",
       "</tr>\n",
       "<tr>\n",
       "  <th>meanDist</th>  <td>   -0.0002</td> <td> 2.48e-05</td> <td>   -7.730</td> <td> 0.000</td> <td>   -0.000</td> <td>   -0.000</td>\n",
       "</tr>\n",
       "<tr>\n",
       "  <th>age</th>       <td>-3.554e-06</td> <td>    0.000</td> <td>   -0.021</td> <td> 0.983</td> <td>   -0.000</td> <td>    0.000</td>\n",
       "</tr>\n",
       "<tr>\n",
       "  <th>summer</th>    <td>   -0.1261</td> <td>    0.027</td> <td>   -4.728</td> <td> 0.000</td> <td>   -0.178</td> <td>   -0.074</td>\n",
       "</tr>\n",
       "</table>"
      ],
      "text/plain": [
       "<class 'statsmodels.iolib.summary.Summary'>\n",
       "\"\"\"\n",
       "                           Logit Regression Results                           \n",
       "==============================================================================\n",
       "Dep. Variable:              breakdown   No. Observations:                40000\n",
       "Model:                          Logit   Df Residuals:                    39992\n",
       "Method:                           MLE   Df Model:                            7\n",
       "Date:                Sat, 12 Mar 2022   Pseudo R-squ.:                 0.09472\n",
       "Time:                        01:31:06   Log-Likelihood:                -25100.\n",
       "converged:                       True   LL-Null:                       -27726.\n",
       "Covariance Type:            nonrobust   LLR p-value:                     0.000\n",
       "==============================================================================\n",
       "                 coef    std err          z      P>|z|      [0.025      0.975]\n",
       "------------------------------------------------------------------------------\n",
       "cumTime     1.148e-05   5.94e-06      1.935      0.053    -1.5e-07    2.31e-05\n",
       "cumDist     2.343e-07   4.01e-08      5.841      0.000    1.56e-07    3.13e-07\n",
       "cumRide       -0.0018      0.000     -9.008      0.000      -0.002      -0.001\n",
       "cumBreak       0.3645      0.006     60.202      0.000       0.353       0.376\n",
       "intensity      0.0033      0.001      4.740      0.000       0.002       0.005\n",
       "meanDist      -0.0002   2.48e-05     -7.730      0.000      -0.000      -0.000\n",
       "age        -3.554e-06      0.000     -0.021      0.983      -0.000       0.000\n",
       "summer        -0.1261      0.027     -4.728      0.000      -0.178      -0.074\n",
       "==============================================================================\n",
       "\"\"\""
      ]
     },
     "execution_count": 6,
     "metadata": {},
     "output_type": "execute_result"
    }
   ],
   "source": [
    "logit_model = sm.Logit(y, X)\n",
    "result = logit_model.fit()\n",
    "result.summary()"
   ]
  },
  {
   "cell_type": "markdown",
   "metadata": {},
   "source": [
    "The p-values for most of the variables are very small, therefore, most of them are significant to the model. <br>\n",
    "모든 변수의 p-value가 충분히 작으므로 모두 유효함"
   ]
  },
  {
   "cell_type": "markdown",
   "metadata": {},
   "source": [
    "### 4. Logistic Regression model fitting"
   ]
  },
  {
   "cell_type": "code",
   "execution_count": 8,
   "metadata": {},
   "outputs": [
    {
     "name": "stdout",
     "output_type": "stream",
     "text": [
      "Train set 정확도: 0.551929\n",
      "Test set 정확도: 0.559333\n"
     ]
    }
   ],
   "source": [
    "#데이터 분리\n",
    "X_train, X_test, y_train, y_test = train_test_split(X, y, test_size=0.3, random_state=0)\n",
    "\n",
    "#데이터 학습\n",
    "logreg = LogisticRegression()\n",
    "logreg.fit(X_train, y_train)\n",
    "\n",
    "print('Train set 정확도: %2f' % logreg.score(X_train, y_train))\n",
    "print('Test set 정확도: %2f' % logreg.score(X_test, y_test))"
   ]
  },
  {
   "cell_type": "markdown",
   "metadata": {},
   "source": [
    "### 5. k-fold cross validation"
   ]
  },
  {
   "cell_type": "code",
   "execution_count": 13,
   "metadata": {},
   "outputs": [
    {
     "name": "stdout",
     "output_type": "stream",
     "text": [
      "10-fold cross validation average accuracy: 0.536\n"
     ]
    }
   ],
   "source": [
    "kfold = model_selection.KFold(n_splits=10, random_state=7, shuffle=True)\n",
    "modelCV = LogisticRegression()\n",
    "scoring = 'accuracy'\n",
    "results = model_selection.cross_val_score(modelCV, X_train, y_train, cv=kfold, scoring=scoring)\n",
    "print(\"10-fold cross validation average accuracy: %.3f\" % (results.mean()))"
   ]
  },
  {
   "cell_type": "markdown",
   "metadata": {},
   "source": [
    "### 6. confusion matrix"
   ]
  },
  {
   "cell_type": "code",
   "execution_count": 19,
   "metadata": {},
   "outputs": [],
   "source": [
    "y_pred = logreg.predict(X_test)"
   ]
  },
  {
   "cell_type": "code",
   "execution_count": 23,
   "metadata": {},
   "outputs": [
    {
     "name": "stdout",
     "output_type": "stream",
     "text": [
      "[[3018 2984]\n",
      " [2304 3694]]\n"
     ]
    }
   ],
   "source": [
    "confusion_matrix = confusion_matrix(y_test, y_pred)\n",
    "print(confusion_matrix)"
   ]
  },
  {
   "cell_type": "code",
   "execution_count": 24,
   "metadata": {},
   "outputs": [
    {
     "name": "stdout",
     "output_type": "stream",
     "text": [
      "              precision    recall  f1-score   support\n",
      "\n",
      "           0       0.57      0.50      0.53      6002\n",
      "           1       0.55      0.62      0.58      5998\n",
      "\n",
      "    accuracy                           0.56     12000\n",
      "   macro avg       0.56      0.56      0.56     12000\n",
      "weighted avg       0.56      0.56      0.56     12000\n",
      "\n"
     ]
    }
   ],
   "source": [
    "print(classification_report(y_test, y_pred))"
   ]
  },
  {
   "cell_type": "markdown",
   "metadata": {},
   "source": [
    "precision(정밀도) : 양성이라 예측한 값 중 실제 양성인 개수 <br>\n",
    "recall(재현율) : 실제 양성인 값 중 양성이라 예측한 개수<br>\n",
    "accuracy(정확도) : 전체 중 제대로 예측한 샘플의 개수<br>\n",
    "f1-score : precision과 recall의 가중 조화평균<br>\n",
    "support : 각 라벨의 실제 샘플 개수<br>\n",
    "macro avg : 단순 평균 (각 클래스의 샘플 개수의 불균형 고려 X)<br>\n",
    "weighted avg : 가중 평균 (각 클래스의 샘플 개수의 불균형 고려 O)"
   ]
  },
  {
   "cell_type": "markdown",
   "metadata": {},
   "source": [
    "### 7. ROC curve"
   ]
  },
  {
   "cell_type": "code",
   "execution_count": 30,
   "metadata": {},
   "outputs": [
    {
     "data": {
      "image/png": "[encoded data removed]",
      "text/plain": [
       "<Figure size 432x288 with 1 Axes>"
      ]
     },
     "metadata": {
      "needs_background": "light"
     },
     "output_type": "display_data"
    }
   ],
   "source": [
    "logit_roc_auc = roc_auc_score(y_test, y_pred)\n",
    "fpr, tpr, thresholds = roc_curve(y_test, logreg.predict_proba(X_test)[:,1])\n",
    "\n",
    "plt.figure()\n",
    "plt.plot(fpr, tpr, label='Logistic Regression (area = %0.2f)' % logit_roc_auc)\n",
    "plt.plot([0, 1], [0, 1],'r--')\n",
    "\n",
    "plt.xlim([0.0, 1.0])\n",
    "plt.ylim([0.0, 1.05])\n",
    "\n",
    "plt.xlabel('False Positive Rate')\n",
    "plt.ylabel('True Positive Rate')\n",
    "\n",
    "plt.title('ROC curve with logistic regression')\n",
    "plt.legend(loc=\"lower right\")\n",
    "plt.savefig('ml_Log_ROC')\n",
    "plt.show()"
   ]
  },
  {
   "cell_type": "code",
   "execution_count": null,
   "metadata": {},
   "outputs": [],
   "source": []
  }
 ],
 "metadata": {
  "interpreter": {
   "hash": "8fac594bfae6525c0c41b4041d2d72effa188cc8ead05f81b1fab2bb098927fb"
  },
  "kernelspec": {
   "display_name": "Python 3.9.7 ('base')",
   "language": "python",
   "name": "python3"
  },
  "language_info": {
   "codemirror_mode": {
    "name": "ipython",
    "version": 3
   },
   "file_extension": ".py",
   "mimetype": "text/x-python",
   "name": "python",
   "nbconvert_exporter": "python",
   "pygments_lexer": "ipython3",
   "version": "3.9.7"
  },
  "orig_nbformat": 4
 },
 "nbformat": 4,
 "nbformat_minor": 2
}
