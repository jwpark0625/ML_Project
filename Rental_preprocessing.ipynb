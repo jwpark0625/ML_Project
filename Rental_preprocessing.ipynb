{
 "cells": [
  {
   "cell_type": "code",
   "execution_count": 1,
   "id": "f26cbd5f",
   "metadata": {
    "executionInfo": {
     "elapsed": 605,
     "status": "ok",
     "timestamp": 1646668170921,
     "user": {
      "displayName": "JW",
      "photoUrl": "https://lh3.googleusercontent.com/a-/AOh14GiegzAKuANCtzZ65pp_FKnB4bc5gvBUn4hJ1TtFPw=s64",
      "userId": "04620382709762229886"
     },
     "user_tz": -540
    },
    "id": "f26cbd5f"
   },
   "outputs": [],
   "source": [
    "import pandas as pd"
   ]
  },
  {
   "cell_type": "markdown",
   "id": "606915b9",
   "metadata": {
    "id": "606915b9"
   },
   "source": [
    "# 2020년\n",
    "* 개인 작업시 경로 수정 필요"
   ]
  },
  {
   "cell_type": "code",
   "execution_count": 2,
   "id": "f6fd19b5",
   "metadata": {
    "executionInfo": {
     "elapsed": 111120,
     "status": "ok",
     "timestamp": 1646668282039,
     "user": {
      "displayName": "JW",
      "photoUrl": "https://lh3.googleusercontent.com/a-/AOh14GiegzAKuANCtzZ65pp_FKnB4bc5gvBUn4hJ1TtFPw=s64",
      "userId": "04620382709762229886"
     },
     "user_tz": -540
    },
    "id": "f6fd19b5"
   },
   "outputs": [],
   "source": [
    "df_2012 = pd.read_csv('preprocess/2020/Bicycle 2012.csv',encoding = 'cp949',low_memory = False)\n",
    "df_2011 = pd.read_csv('preprocess/2020/Bicycle 2011.csv',encoding = 'cp949',low_memory = False)\n",
    "df_2010 = pd.read_csv('preprocess/2020/Bicycle 2010.csv',encoding = 'cp949',low_memory = False)\n",
    "df_2009 = pd.read_csv('preprocess/2020/Bicycle 2009.csv',encoding = 'cp949',low_memory = False)\n",
    "df_2007_08 = pd.read_csv('preprocess/2020/Bicycle 2007_08.csv',encoding = 'cp949',low_memory = False)\n",
    "df_2006 = pd.read_csv('preprocess/2020/Bicycle 2006.csv',encoding = 'cp949',low_memory = False)\n",
    "df_2005 = pd.read_csv('preprocess/2020/Bicycle 2005.csv',encoding = 'cp949',low_memory = False)\n",
    "df_2004 = pd.read_csv('preprocess/2020/Bicycle 2004.csv',encoding = 'cp949',low_memory = False)\n",
    "df_2003 = pd.read_csv('preprocess/2020/Bicycle 2003.csv',encoding = 'cp949',low_memory = False)\n",
    "df_2002 = pd.read_csv('preprocess/2020/Bicycle 2002.csv',encoding = 'cp949',low_memory = False)\n",
    "df_2001 = pd.read_csv('preprocess/2020/Bicycle 2001.csv',encoding = 'cp949',low_memory = False)"
   ]
  },
  {
   "cell_type": "code",
   "execution_count": 3,
   "id": "b2ce24a2",
   "metadata": {
    "colab": {
     "base_uri": "https://localhost:8080/",
     "height": 424
    },
    "executionInfo": {
     "elapsed": 5081,
     "status": "ok",
     "timestamp": 1646668287115,
     "user": {
      "displayName": "JW",
      "photoUrl": "https://lh3.googleusercontent.com/a-/AOh14GiegzAKuANCtzZ65pp_FKnB4bc5gvBUn4hJ1TtFPw=s64",
      "userId": "04620382709762229886"
     },
     "user_tz": -540
    },
    "id": "b2ce24a2",
    "outputId": "010eb75c-7bd2-4e89-9548-425c091ebe23",
    "scrolled": true
   },
   "outputs": [],
   "source": [
    "df_2020 = pd.concat([df_2001, df_2002, df_2003, df_2004, df_2005, df_2006, df_2007_08, df_2009, df_2010, df_2011, df_2012], ignore_index=True)\n",
    "\n",
    "#시간 부분 떼어내기\n",
    "df_2020['대여일시'] = df_2020['대여일시'].str.split(' ').str[0]\n",
    "# df_2020['반납일시'] = df_2020['반납일시'].str.split(' ').str[0]"
   ]
  },
  {
   "cell_type": "code",
   "execution_count": 4,
   "id": "1ddbc3f7",
   "metadata": {},
   "outputs": [],
   "source": [
    "df_2020_select = df_2020[['자전거번호','대여일시','이용시간','이용거리']]"
   ]
  },
  {
   "cell_type": "code",
   "execution_count": 5,
   "id": "2529d1de",
   "metadata": {},
   "outputs": [
    {
     "name": "stdout",
     "output_type": "stream",
     "text": [
      "자전거번호     object\n",
      "대여일시      object\n",
      "반납일시      object\n",
      "이용시간     float16\n",
      "이용거리     float64\n",
      "dtype: object\n"
     ]
    }
   ],
   "source": [
    "# df_name [ “col_name” ] .astype(…)\n",
    "\n",
    "test_df = df_2020_select.astype({'이용시간':'float16'})\n",
    "print(test_df.dtypes)"
   ]
  },
  {
   "cell_type": "code",
   "execution_count": null,
   "id": "c3302027",
   "metadata": {},
   "outputs": [],
   "source": []
  },
  {
   "cell_type": "code",
   "execution_count": null,
   "id": "ae96d94e",
   "metadata": {},
   "outputs": [],
   "source": []
  },
  {
   "cell_type": "markdown",
   "id": "4c1e8297",
   "metadata": {
    "id": "4c1e8297"
   },
   "source": [
    "# 2021년\n",
    "* 개인 작업시 경로 수정 필요"
   ]
  },
  {
   "cell_type": "code",
   "execution_count": 2,
   "id": "779012b3",
   "metadata": {
    "id": "779012b3"
   },
   "outputs": [],
   "source": [
    "# df_2112 = pd.read_csv('preprocess/2021/Bicycle 2112.csv',encoding = 'cp949',low_memory = False)\n",
    "# df_2111 = pd.read_csv('preprocess/2021/Bicycle 2111.csv',encoding = 'cp949',low_memory = False)\n",
    "# df_2110 = pd.read_csv('preprocess/2021/Bicycle 2110.csv',encoding = 'cp949',low_memory = False)\n",
    "# df_2109 = pd.read_csv('preprocess/2021/Bicycle 2109.csv',encoding = 'cp949',low_memory = False)\n",
    "# df_2108 = pd.read_csv('preprocess/2021/Bicycle 2108.csv',encoding = 'cp949',low_memory = False)\n",
    "# df_2107 = pd.read_csv('preprocess/2021/Bicycle 2107.csv',encoding = 'cp949',low_memory = False)\n",
    "# df_2106 = pd.read_csv('preprocess/2021/Bicycle 2106.csv',encoding = 'cp949',low_memory = False)\n",
    "# df_2105 = pd.read_csv('preprocess/2021/Bicycle 2105.csv',encoding = 'cp949',low_memory = False)\n",
    "# df_2104 = pd.read_csv('preprocess/2021/Bicycle 2104.csv',encoding = 'cp949',low_memory = False)\n",
    "# df_2103 = pd.read_csv('preprocess/2021/Bicycle 2103.csv',encoding = 'cp949',low_memory = False)\n",
    "df_2102 = pd.read_csv('preprocess/2021/Bicycle 2102.csv',encoding = 'cp949',low_memory = False)\n",
    "df_2101 = pd.read_csv('preprocess/2021/Bicycle 2101.csv',encoding = 'cp949',low_memory = False)"
   ]
  },
  {
   "cell_type": "code",
   "execution_count": 3,
   "id": "ce434825",
   "metadata": {
    "id": "ce434825"
   },
   "outputs": [],
   "source": [
    "# df_2021 = pd.concat([df_2101, df_2102, df_2103, df_2104, df_2105, df_2106, df_2107, df_2108, df_2109, df_2110, df_2111, df_2112], ignore_index=True)\n",
    "df_2021 = pd.concat([df_2101, df_2102], ignore_index=True)\n",
    "\n",
    "#시간 부분 떼어내기\n",
    "df_2021['대여일시'] = df_2021['대여일시'].str.split(' ').str[0]\n",
    "# df_2021['반납일시'] = df_2021['반납일시'].str.split(' ').str[0]"
   ]
  },
  {
   "cell_type": "code",
   "execution_count": 4,
   "id": "e0447aa3",
   "metadata": {},
   "outputs": [
    {
     "data": {
      "text/html": [
       "<div>\n",
       "<style scoped>\n",
       "    .dataframe tbody tr th:only-of-type {\n",
       "        vertical-align: middle;\n",
       "    }\n",
       "\n",
       "    .dataframe tbody tr th {\n",
       "        vertical-align: top;\n",
       "    }\n",
       "\n",
       "    .dataframe thead th {\n",
       "        text-align: right;\n",
       "    }\n",
       "</style>\n",
       "<table border=\"1\" class=\"dataframe\">\n",
       "  <thead>\n",
       "    <tr style=\"text-align: right;\">\n",
       "      <th></th>\n",
       "      <th>자전거번호</th>\n",
       "      <th>대여일시</th>\n",
       "      <th>이용시간</th>\n",
       "      <th>이용거리</th>\n",
       "    </tr>\n",
       "  </thead>\n",
       "  <tbody>\n",
       "    <tr>\n",
       "      <th>0</th>\n",
       "      <td>SPB-53145</td>\n",
       "      <td>2021-01-02</td>\n",
       "      <td>25.0</td>\n",
       "      <td>0.00</td>\n",
       "    </tr>\n",
       "    <tr>\n",
       "      <th>1</th>\n",
       "      <td>SPB-53074</td>\n",
       "      <td>2021-01-04</td>\n",
       "      <td>14.0</td>\n",
       "      <td>0.00</td>\n",
       "    </tr>\n",
       "    <tr>\n",
       "      <th>2</th>\n",
       "      <td>SPB-50952</td>\n",
       "      <td>2021-01-13</td>\n",
       "      <td>11.0</td>\n",
       "      <td>1853.99</td>\n",
       "    </tr>\n",
       "    <tr>\n",
       "      <th>3</th>\n",
       "      <td>SPB-52380</td>\n",
       "      <td>2021-01-14</td>\n",
       "      <td>10.0</td>\n",
       "      <td>0.00</td>\n",
       "    </tr>\n",
       "    <tr>\n",
       "      <th>4</th>\n",
       "      <td>SPB-52380</td>\n",
       "      <td>2021-01-18</td>\n",
       "      <td>13.0</td>\n",
       "      <td>2291.05</td>\n",
       "    </tr>\n",
       "    <tr>\n",
       "      <th>...</th>\n",
       "      <td>...</td>\n",
       "      <td>...</td>\n",
       "      <td>...</td>\n",
       "      <td>...</td>\n",
       "    </tr>\n",
       "    <tr>\n",
       "      <th>2032909</th>\n",
       "      <td>SPB-35567</td>\n",
       "      <td>2021-02-28</td>\n",
       "      <td>37.0</td>\n",
       "      <td>6403.05</td>\n",
       "    </tr>\n",
       "    <tr>\n",
       "      <th>2032910</th>\n",
       "      <td>SPB-52298</td>\n",
       "      <td>2021-02-28</td>\n",
       "      <td>27.0</td>\n",
       "      <td>3839.32</td>\n",
       "    </tr>\n",
       "    <tr>\n",
       "      <th>2032911</th>\n",
       "      <td>SPB-43850</td>\n",
       "      <td>2021-02-28</td>\n",
       "      <td>63.0</td>\n",
       "      <td>2021.30</td>\n",
       "    </tr>\n",
       "    <tr>\n",
       "      <th>2032912</th>\n",
       "      <td>SPB-31466</td>\n",
       "      <td>2021-02-28</td>\n",
       "      <td>50.0</td>\n",
       "      <td>8361.71</td>\n",
       "    </tr>\n",
       "    <tr>\n",
       "      <th>2032913</th>\n",
       "      <td>SPB-43306</td>\n",
       "      <td>2021-02-28</td>\n",
       "      <td>15.0</td>\n",
       "      <td>2370.33</td>\n",
       "    </tr>\n",
       "  </tbody>\n",
       "</table>\n",
       "<p>2032914 rows × 4 columns</p>\n",
       "</div>"
      ],
      "text/plain": [
       "             자전거번호        대여일시  이용시간     이용거리\n",
       "0        SPB-53145  2021-01-02  25.0     0.00\n",
       "1        SPB-53074  2021-01-04  14.0     0.00\n",
       "2        SPB-50952  2021-01-13  11.0  1853.99\n",
       "3        SPB-52380  2021-01-14  10.0     0.00\n",
       "4        SPB-52380  2021-01-18  13.0  2291.05\n",
       "...            ...         ...   ...      ...\n",
       "2032909  SPB-35567  2021-02-28  37.0  6403.05\n",
       "2032910  SPB-52298  2021-02-28  27.0  3839.32\n",
       "2032911  SPB-43850  2021-02-28  63.0  2021.30\n",
       "2032912  SPB-31466  2021-02-28  50.0  8361.71\n",
       "2032913  SPB-43306  2021-02-28  15.0  2370.33\n",
       "\n",
       "[2032914 rows x 4 columns]"
      ]
     },
     "execution_count": 4,
     "metadata": {},
     "output_type": "execute_result"
    }
   ],
   "source": [
    "df_2021 = df_2021[['자전거번호','대여일시','이용시간','이용거리']]\n",
    "df_2021"
   ]
  },
  {
   "cell_type": "markdown",
   "id": "Fp5MZJQl6Inn",
   "metadata": {
    "id": "Fp5MZJQl6Inn"
   },
   "source": [
    "# 2020년 + 2021년"
   ]
  },
  {
   "cell_type": "code",
   "execution_count": 9,
   "id": "lg-Qe5_86MIu",
   "metadata": {
    "id": "lg-Qe5_86MIu",
    "scrolled": true
   },
   "outputs": [
    {
     "data": {
      "text/html": [
       "<div>\n",
       "<style scoped>\n",
       "    .dataframe tbody tr th:only-of-type {\n",
       "        vertical-align: middle;\n",
       "    }\n",
       "\n",
       "    .dataframe tbody tr th {\n",
       "        vertical-align: top;\n",
       "    }\n",
       "\n",
       "    .dataframe thead th {\n",
       "        text-align: right;\n",
       "    }\n",
       "</style>\n",
       "<table border=\"1\" class=\"dataframe\">\n",
       "  <thead>\n",
       "    <tr style=\"text-align: right;\">\n",
       "      <th></th>\n",
       "      <th>자전거번호</th>\n",
       "      <th>대여일시</th>\n",
       "      <th>반납일시</th>\n",
       "      <th>이용시간</th>\n",
       "      <th>이용거리</th>\n",
       "    </tr>\n",
       "  </thead>\n",
       "  <tbody>\n",
       "    <tr>\n",
       "      <th>0</th>\n",
       "      <td>SPB-04061</td>\n",
       "      <td>2020-01-01</td>\n",
       "      <td>2020-01-01</td>\n",
       "      <td>2.0</td>\n",
       "      <td>0.00</td>\n",
       "    </tr>\n",
       "    <tr>\n",
       "      <th>1</th>\n",
       "      <td>SPB-06686</td>\n",
       "      <td>2020-01-01</td>\n",
       "      <td>2020-01-01</td>\n",
       "      <td>1.0</td>\n",
       "      <td>350.00</td>\n",
       "    </tr>\n",
       "    <tr>\n",
       "      <th>2</th>\n",
       "      <td>SPB-15937</td>\n",
       "      <td>2020-01-01</td>\n",
       "      <td>2020-01-01</td>\n",
       "      <td>4.0</td>\n",
       "      <td>800.00</td>\n",
       "    </tr>\n",
       "    <tr>\n",
       "      <th>3</th>\n",
       "      <td>SPB-14805</td>\n",
       "      <td>2020-01-01</td>\n",
       "      <td>2020-01-01</td>\n",
       "      <td>2.0</td>\n",
       "      <td>0.00</td>\n",
       "    </tr>\n",
       "    <tr>\n",
       "      <th>4</th>\n",
       "      <td>SPB-09038</td>\n",
       "      <td>2020-01-01</td>\n",
       "      <td>2020-01-01</td>\n",
       "      <td>4.0</td>\n",
       "      <td>660.00</td>\n",
       "    </tr>\n",
       "    <tr>\n",
       "      <th>...</th>\n",
       "      <td>...</td>\n",
       "      <td>...</td>\n",
       "      <td>...</td>\n",
       "      <td>...</td>\n",
       "      <td>...</td>\n",
       "    </tr>\n",
       "    <tr>\n",
       "      <th>54076940</th>\n",
       "      <td>SPB-51882</td>\n",
       "      <td>2021-12-30</td>\n",
       "      <td>2021-12-30</td>\n",
       "      <td>12.0</td>\n",
       "      <td>0.00</td>\n",
       "    </tr>\n",
       "    <tr>\n",
       "      <th>54076941</th>\n",
       "      <td>SPB-51134</td>\n",
       "      <td>2021-12-30</td>\n",
       "      <td>2021-12-30</td>\n",
       "      <td>3.0</td>\n",
       "      <td>0.00</td>\n",
       "    </tr>\n",
       "    <tr>\n",
       "      <th>54076942</th>\n",
       "      <td>SPB-37732</td>\n",
       "      <td>2021-12-30</td>\n",
       "      <td>2021-12-30</td>\n",
       "      <td>3.0</td>\n",
       "      <td>345.45</td>\n",
       "    </tr>\n",
       "    <tr>\n",
       "      <th>54076943</th>\n",
       "      <td>SPB-51854</td>\n",
       "      <td>2021-12-22</td>\n",
       "      <td>2021-12-22</td>\n",
       "      <td>17.0</td>\n",
       "      <td>0.00</td>\n",
       "    </tr>\n",
       "    <tr>\n",
       "      <th>54076944</th>\n",
       "      <td>SPB-53564</td>\n",
       "      <td>2021-12-22</td>\n",
       "      <td>2021-12-22</td>\n",
       "      <td>1.0</td>\n",
       "      <td>0.00</td>\n",
       "    </tr>\n",
       "  </tbody>\n",
       "</table>\n",
       "<p>54076945 rows × 5 columns</p>\n",
       "</div>"
      ],
      "text/plain": [
       "              자전거번호        대여일시        반납일시  이용시간    이용거리\n",
       "0         SPB-04061  2020-01-01  2020-01-01   2.0    0.00\n",
       "1         SPB-06686  2020-01-01  2020-01-01   1.0  350.00\n",
       "2         SPB-15937  2020-01-01  2020-01-01   4.0  800.00\n",
       "3         SPB-14805  2020-01-01  2020-01-01   2.0    0.00\n",
       "4         SPB-09038  2020-01-01  2020-01-01   4.0  660.00\n",
       "...             ...         ...         ...   ...     ...\n",
       "54076940  SPB-51882  2021-12-30  2021-12-30  12.0    0.00\n",
       "54076941  SPB-51134  2021-12-30  2021-12-30   3.0    0.00\n",
       "54076942  SPB-37732  2021-12-30  2021-12-30   3.0  345.45\n",
       "54076943  SPB-51854  2021-12-22  2021-12-22  17.0    0.00\n",
       "54076944  SPB-53564  2021-12-22  2021-12-22   1.0    0.00\n",
       "\n",
       "[54076945 rows x 5 columns]"
      ]
     },
     "execution_count": 9,
     "metadata": {},
     "output_type": "execute_result"
    }
   ],
   "source": [
    "df_20_21 = pd.concat([df_2020,df_2021], ignore_index=True)\n",
    "\n",
    "df_20_21"
   ]
  },
  {
   "cell_type": "markdown",
   "id": "7c029c6e",
   "metadata": {},
   "source": [
    "# 형(dtype)변환"
   ]
  },
  {
   "cell_type": "code",
   "execution_count": 10,
   "id": "e209ac3f",
   "metadata": {},
   "outputs": [
    {
     "name": "stdout",
     "output_type": "stream",
     "text": [
      "자전거번호     object\n",
      "대여일시      object\n",
      "반납일시      object\n",
      "이용시간     float16\n",
      "이용거리     float16\n",
      "dtype: object\n"
     ]
    }
   ],
   "source": [
    "# df_name [ “col_name” ] .astype(…)\n",
    "\n",
    "df_20_21 = df_20_21.astype({'이용시간':'float16','이용거리' : 'float16'})\n",
    "print(df_20_21.dtypes)"
   ]
  },
  {
   "cell_type": "code",
   "execution_count": 5,
   "id": "4c000328",
   "metadata": {},
   "outputs": [
    {
     "name": "stdout",
     "output_type": "stream",
     "text": [
      "자전거번호     object\n",
      "대여일시      object\n",
      "이용시간     float16\n",
      "이용거리     float16\n",
      "dtype: object\n"
     ]
    }
   ],
   "source": [
    "df_2021 = df_2021.astype({'이용시간':'float16','이용거리' : 'float16'})\n",
    "print(df_2021.dtypes)"
   ]
  },
  {
   "cell_type": "markdown",
   "id": "aeb41fa4",
   "metadata": {},
   "source": [
    "# 합쳐진 데이터 추출"
   ]
  },
  {
   "cell_type": "code",
   "execution_count": 11,
   "id": "968aeb6d",
   "metadata": {
    "id": "968aeb6d"
   },
   "outputs": [],
   "source": [
    "df_20_21.to_csv(\"Bicycle 20&21.csv\", mode='w',encoding='euc-kr')"
   ]
  },
  {
   "cell_type": "code",
   "execution_count": 6,
   "id": "db5b630c",
   "metadata": {},
   "outputs": [],
   "source": [
    "df_2021.to_csv(\"Rental 2021.csv\", mode='w',encoding='euc-kr')"
   ]
  },
  {
   "cell_type": "code",
   "execution_count": null,
   "id": "1c5f6292",
   "metadata": {},
   "outputs": [],
   "source": []
  }
 ],
 "metadata": {
  "colab": {
   "collapsed_sections": [],
   "name": "data_preprocessing.ipynb",
   "provenance": []
  },
  "kernelspec": {
   "display_name": "Python 3 (ipykernel)",
   "language": "python",
   "name": "python3"
  },
  "language_info": {
   "codemirror_mode": {
    "name": "ipython",
    "version": 3
   },
   "file_extension": ".py",
   "mimetype": "text/x-python",
   "name": "python",
   "nbconvert_exporter": "python",
   "pygments_lexer": "ipython3",
   "version": "3.9.7"
  }
 },
 "nbformat": 4,
 "nbformat_minor": 5
}
